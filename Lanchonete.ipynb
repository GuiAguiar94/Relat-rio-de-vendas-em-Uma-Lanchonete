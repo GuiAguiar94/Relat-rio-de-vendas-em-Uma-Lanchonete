{
  "nbformat": 4,
  "nbformat_minor": 0,
  "metadata": {
    "colab": {
      "name": "Lanchonete.ipynb",
      "provenance": []
    },
    "kernelspec": {
      "name": "python3",
      "display_name": "Python 3"
    },
    "language_info": {
      "name": "python"
    }
  },
  "cells": [
    {
      "cell_type": "code",
      "metadata": {
        "id": "_UOPCBq1YUdc",
        "colab": {
          "base_uri": "https://localhost:8080/"
        },
        "outputId": "8b47b999-5b21-488a-bb01-5515e9b658ec"
      },
      "source": [
        "#Digite um intem de compra e quantidade\n",
        "#verificar o valor total\n",
        "#quando encerrar a conta dou o valor total da conta\n",
        "def ler_quantidade():\n",
        " informação =(input(\"Qual a quantidade consumida?\"))\n",
        " while (not informação.isdigit()):\n",
        "  informação= (input(\"o número digitado deve ser número.Digite novamente!\"))\n",
        " return int(informação)\n",
        "def ler_item_compra(produtos):\n",
        "  nome=input(\"Digite o nome do produto(Digite ENTER para terminar)\")\n",
        "  indice = -1\n",
        "  if (nome == \"\"):\n",
        "    return -1\n",
        "  for i, produto  in enumerate(produtos):\n",
        "     if(nome.upper() in produto.upper()):\n",
        "      indice= i\n",
        "      break\n",
        "  return indice   \n",
        "def processar_compra(itens_comprados):\n",
        "  item_compra=ler_item_compra(produtos)\n",
        "  if (item_compra == -1):\n",
        "   return -1,0\n",
        "  itens_comprados.append(produtos[item_compra])\n",
        "  quantidade=ler_quantidade()\n",
        "  return item_compra,quantidade\n",
        "produtos =[\"Hamburguer\",\"Batatas Fritas\",\"Combo\",\"Refrigerante\"]\n",
        "precos = [15,10.5,20,5]\n",
        "valor_compra = 0\n",
        "itens_comprados=[]\n",
        "item_compra,quantidade=processar_compra(itens_comprados)\n",
        "\n",
        "while item_compra != -1:\n",
        "  valor_compra = valor_compra + (precos[item_compra]*quantidade)\n",
        "  item_compra,quantidade=processar_compra(itens_comprados)\n",
        "print(\"******Relatório final da Compra: *********\")\n",
        "for item in itens_comprados:\n",
        "  print(\"Comprado:{}\".format(item))\n",
        "  print(\"******************\")\n",
        "print(\"Total da compra foi de {}\".format(valor_compra))\n"
      ],
      "execution_count": null,
      "outputs": [
        {
          "output_type": "stream",
          "text": [
            "Digite o nome do produto(Digite ENTER para terminar)combo\n",
            "Qual a quantidade consumida?1\n",
            "Digite o nome do produto(Digite ENTER para terminar)\n",
            "******Relatório final da Compra: *********\n",
            "Comprado:Combo\n",
            "******************\n",
            "Total da compra foi de 20\n"
          ],
          "name": "stdout"
        }
      ]
    }
  ]
}